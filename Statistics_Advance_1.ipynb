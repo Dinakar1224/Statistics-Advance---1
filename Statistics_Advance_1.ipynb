{
  "nbformat": 4,
  "nbformat_minor": 0,
  "metadata": {
    "colab": {
      "provenance": []
    },
    "kernelspec": {
      "name": "python3",
      "display_name": "Python 3"
    },
    "language_info": {
      "name": "python"
    }
  },
  "cells": [
    {
      "cell_type": "markdown",
      "source": [
        "**1: Define the z-statistic and explain its relationship to the standard normal distribution. How is the z-statistic used in hypothesis testing?**"
      ],
      "metadata": {
        "id": "yR8Xhhc87YyT"
      }
    },
    {
      "cell_type": "markdown",
      "source": [
        "Ans: Z-Statistic and Its Relationship to the Standard Normal Distribution\n",
        "The z-statistic (also called the z-score) is a measure that describes how many standard deviations a data point (or sample statistic) is from the population mean. It is commonly used in statistics, especially in hypothesis testing, to standardize values and compare them to a normal distribution.\n",
        "The formula for calculating the z-statistic is:\n",
        "z=X−μσz = \\frac{X - \\mu}{\\sigma}z=σX−μ\n",
        "Where:\n",
        "1. X is the individual data point or sample statistic (such as the sample mean),\n",
        "2. μ\\muμ is the population mean,\n",
        "3. σ\\sigmaσ is the population standard deviation.\n",
        "In some cases, when the population standard deviation is unknown and we use the sample standard deviation (sss) instead, the formula becomes:\n",
        "z=X−Xˉsz = \\frac{X - \\bar{X}}{s}z=sX−Xˉ\n",
        "Where:\n",
        "1.Xˉ\\bar{X}Xˉ is the sample mean,\n",
        "2. sss is the sample standard deviation.\n",
        "Relationship to the Standard Normal Distribution\n",
        "The standard normal distribution is a normal distribution with a mean of 0 and a standard deviation of 1. The z-statistic transforms any normal distribution to the standard normal distribution, where the values of the data points are expressed in terms of the number of standard deviations away from the mean.\n",
        "The z-score tells you how far away a particular data point is from the population mean, in terms of standard deviations. If a z-score is:\n",
        "1.Positive: The data point is above the mean.\n",
        "2.Negative: The data point is below the mean.\n",
        "  A z-score of 0 means the data point is exactly at the mean.\n",
        "For a standard normal distribution, the z-score follows a probability distribution, and the area under the curve corresponds to the probability of observing values within a certain range.\n",
        "Z-Statistic in Hypothesis Testing\n",
        "The z-statistic is widely used in hypothesis testing to determine whether there is enough evidence to reject the null hypothesis (H₀). Here's how it works in hypothesis testing:\n",
        "1.\tSet up the null and alternative hypotheses:\n",
        "Null hypothesis (H₀): Assumes no effect or no difference (e.g., the sample mean equals the population mean).\n",
        "Alternative hypothesis (H₁): Assumes there is an effect or a difference (e.g., the sample mean is different from the population mean).\n",
        "2.\tCalculate the z-statistic: Using the formula mentioned above, calculate the z-statistic based on the sample data.\n",
        "3.\tDetermine the critical value: For a given significance level (α\\alphaα), look up the corresponding z-critical value in the z-table (also called the standard normal table). The critical value defines the cutoff point beyond which you would reject the null hypothesis.\n"
      ],
      "metadata": {
        "id": "pBIXdn5o7Y00"
      }
    },
    {
      "cell_type": "markdown",
      "source": [
        "**2 : What is a p-value, and how is it used in hypothesis testing? What does it mean if the p-value is very small (e.g., 0.01)?**"
      ],
      "metadata": {
        "id": "0VkEu9T97Y4s"
      }
    },
    {
      "cell_type": "markdown",
      "source": [
        "Ans:  What is a P-Value?\n",
        "A p-value (probability value) is a measure used in statistical hypothesis testing to help determine the significance of the results. It is the probability of observing a test statistic (or a more extreme value) given that the null hypothesis is true. The p-value helps to assess the strength of the evidence against the null hypothesis.\n",
        "How is the P-Value Used in Hypothesis Testing?\n",
        "In hypothesis testing, the p-value is used to decide whether to reject or fail to reject the null hypothesis. The process typically follows these steps:\n",
        "1.\tState the hypotheses:\n",
        "Null hypothesis (H₀): The hypothesis that there is no effect or no difference.\n",
        "Alternative hypothesis (H₁): The hypothesis that there is an effect or difference.\n",
        "2.\tSet the significance level (α\\alphaα):\n",
        "The significance level α\\alphaα is a threshold that determines when to reject the null hypothesis. Common values for α\\alphaα are 0.05, 0.01, or 0.10.\n",
        "3.\tCalculate the test statistic:\n",
        "Depending on the type of test (e.g., z-test, t-test), you compute the test statistic (like the z-score or t-value).\n",
        "4.\tCompute the p-value:\n",
        "The p-value is calculated based on the test statistic. It represents the probability of obtaining a result at least as extreme as the one observed, under the assumption that the null hypothesis is true.\n",
        "5.\tCompare the p-value to the significance level:\n",
        "If the p-value is less than or equal to the significance level α\\alphaα, you reject the null hypothesis.\n",
        "If the p-value is greater than the significance level α\\alphaα, you fail to reject the null hypothesis.\n",
        "Interpretation of the P-Value\n",
        "P-value ≤ α (e.g., 0.05): The result is statistically significant, and you reject the null hypothesis. This suggests that the observed effect is unlikely to have occurred by chance.\n",
        "P-value > α (e.g., 0.05): The result is not statistically significant, and you fail to reject the null hypothesis. This suggests that the observed effect could be due to random chance, and there is insufficient evidence to support the alternative hypothesis.\n",
        "What Does It Mean if the P-Value is Very Small (e.g., 0.01)?\n",
        "A very small p-value, such as 0.01, indicates strong evidence against the null hypothesis. Specifically:\n",
        "P-value = 0.01 means there is only a 1% probability of observing the test statistic (or something more extreme) if the null hypothesis is true.\n",
        "If the p-value is smaller than the chosen significance level (e.g., 0.01 < 0.05), you would reject the null hypothesis and conclude that there is sufficient evidence to support the alternative hypothesis.\n",
        "In practical terms, a p-value of 0.01 suggests that the observed result is very unlikely to be due to chance, implying a strong relationship or effect if the null hypothesis were true.\n"
      ],
      "metadata": {
        "id": "WJN8VGLH7Y_f"
      }
    },
    {
      "cell_type": "markdown",
      "source": [
        "**3: Compare and contrast the binomial and Bernoulli distributions.**"
      ],
      "metadata": {
        "id": "GXvmtmBE7ZFt"
      }
    },
    {
      "cell_type": "markdown",
      "source": [
        "Ans: l Binomial vs. Bernoulli Distributions: Comparison and Contrast\n",
        "The Bernoulli distribution and the Binomial distribution are both probability distributions used to model discrete random variables. While they are closely related, they differ in terms of their structure and application.\n",
        "1. Bernoulli Distribution\n",
        "The Bernoulli distribution is the simplest type of probability distribution, and it describes a single trial or experiment that has two possible outcomes: a success (often represented as 1) or a failure (often represented as 0).\n",
        "Characteristics of the Bernoulli Distribution:\n",
        "Number of trials: A single trial (n = 1).\n",
        "Possible outcomes: Only two outcomes are possible — success (1) or failure (0).\n",
        "Probability of success: ppp, where 0≤p≤10 \\leq p \\leq 10≤p≤1.\n",
        "Probability of failure: 1−p1 - p1−p.\n",
        "2. Binomial Distribution\n",
        "The Binomial distribution generalizes the Bernoulli distribution to model multiple independent trials, each with the same probability of success. It describes the number of successes in a fixed number of trials.\n",
        "Characteristics of the Binomial Distribution:\n",
        "Number of trials: nnn, where n≥1n \\geq 1n≥1, representing the total number of independent trials or experiments.\n",
        "Possible outcomes per trial: Each trial has two possible outcomes (success or failure), just like the Bernoulli distribution.\n",
        "Probability of success: ppp, where 0≤p≤10 \\leq p \\leq 10≤p≤1 (same as Bernoulli distribution).\n",
        "Number of successes: The random variable XXX represents the number of successes out of nnn trials.\n"
      ],
      "metadata": {
        "id": "4ospLc3k7ZII"
      }
    },
    {
      "cell_type": "markdown",
      "source": [
        "**4: Under what conditions is the binomial distribution used, and how does it relate to the Bernoulli distribution?**"
      ],
      "metadata": {
        "id": "OvX_Cl1Q7ZKc"
      }
    },
    {
      "cell_type": "markdown",
      "source": [
        "  Ans:Conditions for Using the Binomial Distribution\n",
        "The Binomial distribution is used under the following conditions, often referred to as the \"Binomial experiment\" conditions:\n",
        "1.\tFixed Number of Trials (n):\n",
        "The experiment must consist of a fixed number of trials, nnn. For example, flipping a coin 10 times would be a binomial experiment because the number of trials (coin flips) is predetermined.\n",
        "2.\tTwo Possible Outcomes:\n",
        "Each trial must have only two possible outcomes, which are typically referred to as success and failure. These outcomes can be encoded as 1 (success) and 0 (failure), such as \"pass/fail\" or \"heads/tails.\"\n",
        "3.\tConstant Probability of Success (p):\n",
        "The probability of success, ppp, must be the same for each trial. That is, the probability of success does not change from one trial to another. For example, in the case of flipping a fair coin, the probability of heads (success) is always 0.5, regardless of the trial number.\n",
        "4.\tIndependence of Trials:\n",
        "The trials must be independent, meaning the outcome of one trial does not affect the outcome of any other trial. For instance, the outcome of one coin flip does not influence the outcome of the next flip.\n",
        "How the Binomial Distribution Relates to the Bernoulli Distribution\n",
        "The Bernoulli distribution is a special case of the Binomial distribution where the number of trials nnn is equal to 1. In other words:\n",
        "The Bernoulli distribution models a single trial with two possible outcomes (success or failure).\n",
        "The Binomial distribution generalizes this by modeling the number of successes in multiple trials (more than one trial).\n",
        "Thus, the Binomial distribution can be thought of as a series of independent Bernoulli trials.\n",
        "Relationship between Binomial and Bernoulli Distributions:\n",
        "Bernoulli distribution: This distribution models the probability of a single event (one trial) with two outcomes (success/failure). If a random variable XXX follows a Bernoulli distribution, it can take values of 1 (success) or 0 (failure) with probabilities ppp and 1−p1 - p1−p, respectively.\n",
        "Binomial distribution: The Binomial distribution models the total number of successes in nnn independent Bernoulli trials. If you perform nnn independent Bernoulli trials, each with the same probability ppp of success, the number of successes in these nnn trials follows a Binomial distribution.\n"
      ],
      "metadata": {
        "id": "Y7h1n0TX7ZMn"
      }
    },
    {
      "cell_type": "markdown",
      "source": [
        "**5: What are the key properties of the Poisson distribution, and when is it appropriate to use this distribution?**"
      ],
      "metadata": {
        "id": "qi1JZbN27ZOv"
      }
    },
    {
      "cell_type": "markdown",
      "source": [
        "Ans: Key Properties of the Poisson Distribution\n",
        "The Poisson distribution is a discrete probability distribution that models the number of events occurring within a fixed interval of time or space. These events are assumed to occur with a constant average rate, independently of the time since the last event. The key properties of the Poisson distribution are as follows:\n",
        "1.\tDiscrete Nature:\n",
        "The Poisson distribution models discrete events, i.e., the number of events that occur is a non-negative integer (0, 1, 2, 3, ...).\n",
        "2.\tParameter (λ):\n",
        "The distribution is characterized by a single parameter λ\\lambdaλ, which represents the mean (and variance) of the distribution.\n",
        "λ\\lambdaλ is the expected number of events in the given interval (time, area, volume, etc.), and it is a positive real number.\n",
        "λ\\lambdaλ is both the mean and the variance of the distribution:\n",
        "Mean: E(X)=λE(X) = \\lambdaE(X)=λ\n",
        "Variance: Var(X)=λ\\text{Var}(X) = \\lambdaVar(X)=λ\n",
        "3.\tProbability Mass Function (PMF):\n",
        "The probability of observing kkk events in a fixed interval is given by the Poisson PMF: P(X=k)=λke−λk!P(X = k) = \\frac{\\lambda^k e^{-\\lambda}}{k!}P(X=k)=k!λke−λ where:\n",
        "kkk is the number of events (a non-negative integer),\n",
        "λ\\lambdaλ is the average rate of occurrence,\n",
        "eee is Euler's number (approximately 2.71828),\n",
        "k!k!k! is the factorial of kkk.\n",
        "4.\tMemorylessness (Independent Events):\n",
        "The Poisson distribution assumes that the events are independent, and the occurrence of one event does not affect the probability of another event occurring.\n",
        "In other words, the number of events in one interval is independent of the number of events in another interval.\n",
        "5.\tNo Upper Bound on kkk:\n",
        "Since the number of events kkk can be any non-negative integer, there is no upper limit on kkk. The probability decreases rapidly as kkk becomes large.\n",
        "6.\tSkewed Distribution:\n",
        "The Poisson distribution is often right-skewed, especially when λ\\lambdaλ is small. As λ\\lambdaλ increases, the distribution becomes more symmetric and approaches a normal distribution.\n",
        "When is it Appropriate to Use the Poisson Distribution?\n",
        "The Poisson distribution is appropriate in the following scenarios:\n",
        "1.\tEvents Occur Randomly and Independently:\n",
        "The events being modeled should occur randomly and independently of one another. The occurrence of one event does not influence the occurrence of another event.\n",
        "2.\tFixed Interval:\n",
        "The events occur within a fixed interval of time, space, area, or volume. For example, you could model the number of calls received by a call center in one hour, the number of accidents occurring at an intersection in a day, or the number of customers arriving at a store in a minute.\n",
        "3.\tConstant Rate of Occurrence:\n",
        "The average rate of occurrence λ\\lambdaλ is constant across the interval. This means that the events occur at a constant average rate, such as 3 customer arrivals per minute, 5 accidents per day, or 2 emails per hour.\n",
        "4.\tRare Events in Large Populations or Intervals:\n",
        "The Poisson distribution is often used to model rare events within a large population or a large interval. The events are infrequent relative to the size of the interval, but they still happen with a predictable average rate.\n",
        "5.\tThe Number of Events is Non-Negative:\n",
        "The events being counted are non-negative integers. You cannot have a fraction of an event, and negative numbers of events do not make sense.\n"
      ],
      "metadata": {
        "id": "_QVUwIg_7ZTL"
      }
    },
    {
      "cell_type": "markdown",
      "source": [
        "**6: Define the terms \"probability distribution\" and \"probability density function\" (PDF). How does a PDF differ from a probability mass function (PMF)?**"
      ],
      "metadata": {
        "id": "iUKbxykj7ZV8"
      }
    },
    {
      "cell_type": "markdown",
      "source": [
        "Ans: Probability Distribution\n",
        "A probability distribution describes the likelihood of all possible outcomes of a random variable. It provides a complete description of the probabilities associated with each possible value of a random variable. In other words, a probability distribution assigns probabilities to the values that a random variable can take.\n",
        "There are two main types of probability distributions:\n",
        "Discrete Probability Distribution: For random variables that can take a finite or countably infinite set of distinct values (e.g., rolling a dice, flipping a coin).\n",
        "Continuous Probability Distribution: For random variables that can take any value within a certain range or interval (e.g., height, weight, temperature).\n",
        "A probability distribution can be represented in two forms:\n",
        "1.\tProbability Mass Function (PMF) for discrete random variables.\n",
        "2.\tProbability Density Function (PDF) for continuous random variables.\n",
        "Probability Mass Function (PMF)\n",
        "A Probability Mass Function (PMF) is a function that defines the probability of a discrete random variable taking on a particular value. The PMF is used for discrete random variables (those that take specific, distinct values).\n",
        "Probability Density Function (PDF)\n",
        "A Probability Density Function (PDF) is a function that defines the likelihood of a continuous random variable taking a specific value within a given range or interval. The PDF is used for continuous random variables (those that can take any value within a continuous range).\n",
        "Difference Between PDF and PMF\n",
        "1.\tType of Random Variables:\n",
        "PMF applies to discrete random variables (those with countable values), such as the number of heads in a series of coin flips or the number rolled on a dice.\n",
        "PDF applies to continuous random variables (those that take on any value within a given range), such as height, weight, or time.\n",
        "2.\tDefinition:\n",
        "The PMF gives the exact probability that a discrete random variable takes a specific value.\n",
        "The PDF gives the probability density, which represents how likely the random variable is to take a value within a given range. The actual probability of a continuous variable taking any exact value is zero, but the PDF allows us to calculate the probability over intervals.\n",
        "3.\tProbability for Specific Values:\n",
        "For discrete random variables, the probability of any specific value xxx can be directly determined using the PMF: P(X=x)P(X = x)P(X=x).\n",
        "For continuous random variables, the probability of any specific value xxx is zero, because the set of possible outcomes is uncountably infinite. Instead, probabilities are calculated for intervals using the PDF.\n"
      ],
      "metadata": {
        "id": "Bo7iNcDm9WuI"
      }
    },
    {
      "cell_type": "markdown",
      "source": [
        "**7: Explain the Central Limit Theorem (CLT) with example.**"
      ],
      "metadata": {
        "id": "OwARk6bD9Wz5"
      }
    },
    {
      "cell_type": "markdown",
      "source": [
        "Ans: The Central Limit Theorem (CLT)\n",
        "The Central Limit Theorem (CLT) is one of the most important theorems in statistics. It states that, regardless of the original distribution of the data, the sampling distribution of the sample mean will tend to follow a normal distribution as the sample size becomes sufficiently large, provided the data points are independent and identically distributed (i.i.d.). This holds true even if the original population distribution is not normal.\n"
      ],
      "metadata": {
        "id": "Jjsc7it29W2d"
      }
    },
    {
      "cell_type": "markdown",
      "source": [
        "**8: Compare z-scores and t-scores. When should you use a z-score, and when should a t-score be a pplied instead?**"
      ],
      "metadata": {
        "id": "qsVpmAay9W5c"
      }
    },
    {
      "cell_type": "markdown",
      "source": [
        "Ans: Comparison of Z-Scores and T-Scores\n",
        "Both z-scores and t-scores are standardization techniques used in statistics to determine how far a data point is from the mean of a distribution, but they are used under different circumstances and have different properties. Here's a detailed comparison of the two:\n",
        "\n",
        "Z-Score\n",
        "Definition: A z-score (also called a standard score) represents the number of standard deviations a data point (or sample mean) is away from the population mean. It is used when the population standard deviation (σ\\sigmaσ) is known.\n",
        "\n",
        "T-Score\n",
        "Definition: A t-score is also a type of standard score, but it is used when the population standard deviation is unknown and the sample size is small (typically n≤30n \\leq 30n≤30). The t-distribution is similar to the normal distribution, but it has thicker tails, which account for the increased variability when working with smaller samples.\n",
        "When to Use a Z-Score vs. T-Score\n",
        "1.\tUse a Z-Score When:\n",
        "The sample size is large (usually n>30n > 30n>30).\n",
        "The population standard deviation (σ\\sigmaσ) is known.\n",
        "The population follows a normal distribution, or the sample size is large enough for the Central Limit Theorem to apply (i.e., the sampling distribution of the sample mean is approximately normal).\n",
        "Examples:\n",
        "When conducting hypothesis tests or constructing confidence intervals for the population mean, with a known population standard deviation, and a large sample (e.g., sample size n=100n = 100n=100).\n",
        "2.\tUse a T-Score When:\n",
        "The sample size is small (typically n≤30n \\leq 30n≤30).\n",
        "The population standard deviation (σ\\sigmaσ) is unknown.\n",
        "The sample data is assumed to come from a normally distributed population (though the t-distribution is quite robust even for non-normal data when nnn is large enough).\n",
        "Examples:\n",
        "When conducting hypothesis tests or constructing confidence intervals for the population mean with a small sample (e.g., sample size n=15n = 15n=15) and an unknown population standard deviation\n"
      ],
      "metadata": {
        "id": "rTpTaGLq9W85"
      }
    },
    {
      "cell_type": "markdown",
      "source": [
        "** 9: Given a sample mean of 105, a population mean of 100, a standard deviation of 15, and a sample size of 25, calculate the z-score and p-value. Based on a significance level of 0.05, do you reject or fail to reject the null hypothesis\n",
        "Task: Write Python code to calculate the z-score and p-value for the given data.\n",
        "Objective: Apply the formula for the z-score and interpret the p-value for hypothesis test.\n",
        "**"
      ],
      "metadata": {
        "id": "l1rxo1bS9W_Z"
      }
    },
    {
      "cell_type": "code",
      "source": [
        "import scipy.stats as stats\n",
        "\n",
        "# Given data\n",
        "sample_mean = 105\n",
        "population_mean = 100\n",
        "standard_deviation = 15\n",
        "sample_size = 25\n",
        "significance_level = 0.05\n",
        "\n",
        "# Calculate the z-score\n",
        "z_score = (sample_mean - population_mean) / (standard_deviation / (sample_size**0.5))\n",
        "\n",
        "# Calculate the p-value (two-tailed test)\n",
        "p_value = 2 * (1 - stats.norm.cdf(abs(z_score)))  # Multiply by 2 for two-tailed test\n",
        "\n",
        "# Print the results\n",
        "print(f\"Z-score: {z_score}\")\n",
        "print(f\"P-value: {p_value}\")\n",
        "\n",
        "# Hypothesis testing\n",
        "if p_value < significance_level:\n",
        "    print(\"Reject the null hypothesis\")\n",
        "else:\n",
        "    print(\"Fail to reject the null hypothesis\")\n"
      ],
      "metadata": {
        "colab": {
          "base_uri": "https://localhost:8080/"
        },
        "id": "Rasp4cN8-ImE",
        "outputId": "90d32282-d2f5-49ea-d3cb-1d9a85a47442"
      },
      "execution_count": null,
      "outputs": [
        {
          "output_type": "stream",
          "name": "stdout",
          "text": [
            "Z-score: 1.6666666666666667\n",
            "P-value: 0.09558070454562939\n",
            "Fail to reject the null hypothesis\n"
          ]
        }
      ]
    },
    {
      "cell_type": "markdown",
      "source": [
        "**10: Simulate a binomial distribution with 10 trials and a probability of success of 0.6 using Python. Generate 1,000 samples and plot the distribution. What is the expected mean and variance?\n",
        "Task: Use Python to generate the data, plot the distribution, and calculate the mean and variance. Objective: Understand the properties of a binomial distribution and verify them through simulation.\n",
        "**"
      ],
      "metadata": {
        "id": "AZJ_LoSi-FK5"
      }
    },
    {
      "cell_type": "code",
      "source": [
        "import numpy as np\n",
        "import matplotlib.pyplot as plt\n",
        "\n",
        "# Parameters for the binomial distribution\n",
        "n = 10  # Number of trials\n",
        "p = 0.6  # Probability of success\n",
        "\n",
        "# Generate 1,000 samples\n",
        "samples = np.random.binomial(n, p, size=1000)\n",
        "\n",
        "# Plot the distribution\n",
        "plt.hist(samples, bins=range(n + 2), align='left', rwidth=0.8)\n",
        "plt.title('Binomial Distribution Simulation')\n",
        "plt.xlabel('Number of Successes')\n",
        "plt.ylabel('Frequency')\n",
        "plt.show()\n",
        "\n",
        "# Calculate the mean and variance\n",
        "mean = np.mean(samples)\n",
        "variance = np.var(samples)\n",
        "\n",
        "print(f\"Expected Mean: {n * p}\")  # Theoretical mean\n",
        "print(f\"Simulated Mean: {mean}\")\n",
        "print(f\"Expected Variance: {n * p * (1 - p)}\")  # Theoretical variance\n",
        "print(f\"Simulated Variance: {variance}\")\n"
      ],
      "metadata": {
        "colab": {
          "base_uri": "https://localhost:8080/",
          "height": 546
        },
        "id": "t0yryt9Y-N86",
        "outputId": "c31c1122-d3f5-449a-8a47-c42a6d4c4eda"
      },
      "execution_count": null,
      "outputs": [
        {
          "output_type": "display_data",
          "data": {
            "text/plain": [
              "<Figure size 640x480 with 1 Axes>"
            ],
            "image/png": "[encoded data removed]"
          },
          "metadata": {}
        },
        {
          "output_type": "stream",
          "name": "stdout",
          "text": [
            "Expected Mean: 6.0\n",
            "Simulated Mean: 6.056\n",
            "Expected Variance: 2.4000000000000004\n",
            "Simulated Variance: 2.514864\n"
          ]
        }
      ]
    },
    {
      "cell_type": "code",
      "source": [],
      "metadata": {
        "id": "-b8zQm9O-SWv"
      },
      "execution_count": null,
      "outputs": []
    }
  ]
}